{
  "nbformat": 4,
  "nbformat_minor": 0,
  "metadata": {
    "colab": {
      "name": "model_prediction.ipynb",
      "provenance": [],
      "authorship_tag": "ABX9TyNk6ZvyPAaSq2McuQ6SiJSJ",
      "include_colab_link": true
    },
    "kernelspec": {
      "name": "python3",
      "display_name": "Python 3"
    },
    "language_info": {
      "name": "python"
    }
  },
  "cells": [
    {
      "cell_type": "markdown",
      "metadata": {
        "id": "view-in-github",
        "colab_type": "text"
      },
      "source": [
        "<a href=\"https://colab.research.google.com/github/LuhZech/keras_predictions/blob/main/model_prediction.ipynb\" target=\"_parent\"><img src=\"https://colab.research.google.com/assets/colab-badge.svg\" alt=\"Open In Colab\"/></a>"
      ]
    },
    {
      "cell_type": "code",
      "metadata": {
        "colab": {
          "base_uri": "https://localhost:8080/"
        },
        "id": "d5U5Kbt_Mqgb",
        "outputId": "d9fa0707-9dcc-4089-f434-d8354c3fc7ee"
      },
      "source": [
        "import tensorflow as tf\n",
        "from tensorflow import keras\n",
        "from tensorflow.keras import layers\n",
        "\n",
        "inputs = keras.Input(shape=(784), name='digits')\n",
        "x = layers.Dense(64, activation='relu', name='dense_1')(inputs) #ReLU stands for rectified linear unit, and is a type of activation function. Mathematically, it is defined as y = max(0, x). \n",
        "X = layers.Dense(64, activation='relu', name = 'dense_2')(x)\n",
        "outputs = layers.Dense(10, activation = 'softmax', name = 'predictions')(x)\n",
        "\n",
        "\n",
        "model = keras.Model(inputs=inputs, outputs=outputs)\n",
        "\n",
        "(x_train, y_train), (x_test, y_test) = keras.datasets.mnist.load_data()\n",
        "\n",
        "#Process the data (Numpy arrays)\n",
        "\n",
        "x_train = x_train.reshape(60000, 784).astype('float32') / 255\n",
        "x_test = x_test.reshape(10000, 784).astype('float32') / 255\n",
        "\n",
        "x_val = x_train[-10000:]\n",
        "y_val = y_train[-10000:]\n",
        "x_train = x_train[:-10000]\n",
        "y_train = y_train[:-10000]\n",
        "\n",
        "model.compile(\n",
        "    optimizer = keras.optimizers.RMSprop(),\n",
        "    loss = keras.losses.SparseCategoricalCrossentropy(),\n",
        "    metrics = [keras.metrics.SparseCategoricalCrossentropy()],\n",
        ")\n",
        "\n",
        "\n",
        "print('Fit model on training data')\n",
        "history = model.fit(\n",
        "    x_train,\n",
        "    y_train,\n",
        "    batch_size = 64,\n",
        "    epochs = 2,\n",
        "\n",
        "    #validation of loss and metrics at the end of each epoch:\n",
        "\n",
        "    validation_data = (x_val, y_val),\n",
        ")\n",
        "\n",
        "history.history\n",
        "\n",
        "print('Evaluate model on test data')\n",
        "results = model.evaluate(x_test, y_test, batch_size=128)\n",
        "print('test loss, test acc:', results)\n",
        "\n",
        "#generate a prediction using model.predict()\n",
        "#calculate it's shape\n",
        "\n",
        "print('Generate a prediction')\n",
        "prediction = model.predict(x_test[:1])\n",
        "print('prediction shape:', prediction.shape)\n"
      ],
      "execution_count": 6,
      "outputs": [
        {
          "output_type": "stream",
          "name": "stdout",
          "text": [
            "Fit model on training data\n",
            "Epoch 1/2\n",
            "782/782 [==============================] - 3s 3ms/step - loss: 0.3623 - sparse_categorical_crossentropy: 0.3623 - val_loss: 0.2012 - val_sparse_categorical_crossentropy: 0.2012\n",
            "Epoch 2/2\n",
            "782/782 [==============================] - 2s 3ms/step - loss: 0.1888 - sparse_categorical_crossentropy: 0.1888 - val_loss: 0.1533 - val_sparse_categorical_crossentropy: 0.1533\n",
            "Evaluate model on test data\n",
            "79/79 [==============================] - 0s 2ms/step - loss: 0.1628 - sparse_categorical_crossentropy: 0.1628\n",
            "test loss, test acc: [0.162787064909935, 0.162787064909935]\n",
            "Generate a prediction\n",
            "prediction shape: (1, 10)\n"
          ]
        }
      ]
    },
    {
      "cell_type": "code",
      "metadata": {
        "id": "02cOW-jz2N4C"
      },
      "source": [
        ""
      ],
      "execution_count": null,
      "outputs": []
    }
  ]
}